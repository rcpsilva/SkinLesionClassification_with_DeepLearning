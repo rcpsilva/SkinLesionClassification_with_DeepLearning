{
  "nbformat": 4,
  "nbformat_minor": 0,
  "metadata": {
    "colab": {
      "name": "SkinLesionClassification_SimpleNet_pytorch_v.ipynb",
      "provenance": [],
      "collapsed_sections": []
    },
    "kernelspec": {
      "name": "python3",
      "display_name": "Python 3"
    }
  },
  "cells": [
    {
      "cell_type": "markdown",
      "metadata": {
        "id": "JPP9a6yRTj13",
        "colab_type": "text"
      },
      "source": [
        "# Skin Lesion Classification with a fully connected deep neural network"
      ]
    },
    {
      "cell_type": "markdown",
      "metadata": {
        "id": "77gInbjqT5Mo",
        "colab_type": "text"
      },
      "source": [
        "Most of the code in this notebook was taken from https://github.com/falloutdurham/beginners-pytorch-deep-learning/. Here, it was tweaked to solve the sking lesion classification problem \n",
        "\n",
        "Please refer to the following book for more details:\n",
        "Programming PyTorch for Deep Learning by Ian Pointer - Released September 2019, Publisher(s): O'Reilly Media, Inc., ISBN: 9781492045342"
      ]
    },
    {
      "cell_type": "markdown",
      "metadata": {
        "id": "-HWE6Em9TzET",
        "colab_type": "text"
      },
      "source": [
        "### Imports"
      ]
    },
    {
      "cell_type": "code",
      "metadata": {
        "id": "G6XUXD1gtE-l",
        "colab_type": "code",
        "colab": {}
      },
      "source": [
        "import pandas as pd\n",
        "import os, os.path, shutil\n",
        "import tqdm\n",
        "import torch\n",
        "from torch.optim import Optimizer \n",
        "import numpy as np\n",
        "import math\n",
        "import torch.nn as nn\n",
        "import torch.optim as optim\n",
        "import torch.utils.data\n",
        "import torch.nn.functional as F\n",
        "import torchvision\n",
        "from torchvision import transforms\n",
        "from PIL import Image\n",
        "\n",
        "folder_path = \"/content/drive/My Drive/Skin_Lesions\""
      ],
      "execution_count": 0,
      "outputs": []
    },
    {
      "cell_type": "markdown",
      "metadata": {
        "id": "04suiJmEW74r",
        "colab_type": "text"
      },
      "source": [
        "## Dataset\n",
        "\n",
        "The dataset used here is the training set avaiable at https://challenge.kitware.com/#challenge/560d7856cad3a57cfde481ba \n",
        "\n",
        "Parte 3: Lesion Classification.\n"
      ]
    },
    {
      "cell_type": "markdown",
      "metadata": {
        "id": "YGMQ284eXLMy",
        "colab_type": "text"
      },
      "source": [
        "### Split files\n",
        "\n",
        "The code below can be used to creat an Image Folder of the aforementioned dataset in the following format:\n",
        "\n",
        "**3 folders**: **train** (the trainning set), **val** (the validation set) and **test** (the test set)\n",
        "\n",
        "Each folder contains **two subfolders**: **benign** (the benign skin lesion images) and **malignant** (the malignant skin lesion images)"
      ]
    },
    {
      "cell_type": "code",
      "metadata": {
        "id": "V9E456wOwEEF",
        "colab_type": "code",
        "colab": {}
      },
      "source": [
        "# ##########\n",
        "# # split_files.py\n",
        "# ##########\n",
        "\n",
        "# #Load ground truth file\n",
        "# imagesDF = pd.read_csv(\"/content/drive/My Drive/GroundTruth.csv\",names=['ID','class'])\n",
        "# folder_path = \"/content/drive/My Drive/Skin_Lesions\"\n",
        "\n",
        "# # Load images \n",
        "# images = [f for f in os.listdir(folder_path) if os.path.isfile(os.path.join(folder_path, f))]\n",
        "\n",
        "# for row in imagesDF.itertuples():\n",
        "#   fig_id = row[1]\n",
        "#   fig_class = row[2]\n",
        "\n",
        "#   cur_image = ''\n",
        "#   for im in images:\n",
        "#     im_name = im.split('.')[0]\n",
        "#     if im_name == fig_id:\n",
        "#       cur_image = im\n",
        "\n",
        "#   r = np.random.rand()\n",
        "#   if  r < 0.15:\n",
        "#     set_type = 'val'\n",
        "#   elif r > 0.15 and r <= 0.3:\n",
        "#     set_type = 'test'\n",
        "#   else:\n",
        "#     set_type = 'train'\n",
        "\n",
        "#   folder_name = set_type + '/' + fig_class\n",
        "\n",
        "#   new_path = os.path.join(folder_path, folder_name)\n",
        "#   if not os.path.exists(new_path):\n",
        "#         os.makedirs(new_path)\n",
        "  \n",
        "#   old_image_path = os.path.join(folder_path, cur_image)\n",
        "#   new_image_path = os.path.join(new_path, cur_image)\n",
        "#   shutil.copy(old_image_path, new_image_path)"
      ],
      "execution_count": 0,
      "outputs": []
    },
    {
      "cell_type": "code",
      "metadata": {
        "id": "n0s-ohmwHgej",
        "colab_type": "code",
        "colab": {}
      },
      "source": [
        "def check_image(path):\n",
        "    try:\n",
        "        im = Image.open(path)\n",
        "        return True\n",
        "    except:\n",
        "        return False"
      ],
      "execution_count": 0,
      "outputs": []
    },
    {
      "cell_type": "markdown",
      "metadata": {
        "id": "uBrwGBKFYi5O",
        "colab_type": "text"
      },
      "source": [
        "## Image resizing and normalization"
      ]
    },
    {
      "cell_type": "code",
      "metadata": {
        "id": "TZ2SVfC5vvv-",
        "colab_type": "code",
        "colab": {}
      },
      "source": [
        "im_size = 128\n",
        "\n",
        "img_transforms = transforms.Compose([\n",
        "    transforms.Resize((im_size,im_size)), \n",
        "    transforms.ToTensor(),\n",
        "    transforms.Normalize(mean=[0.485, 0.456, 0.406],\n",
        "                    std=[0.229, 0.224, 0.225] )\n",
        "    ])"
      ],
      "execution_count": 0,
      "outputs": []
    },
    {
      "cell_type": "markdown",
      "metadata": {
        "id": "LHICMDE-Ysxr",
        "colab_type": "text"
      },
      "source": [
        "## Creating the DataLoaders"
      ]
    },
    {
      "cell_type": "code",
      "metadata": {
        "id": "ni-NU9LLGQea",
        "colab_type": "code",
        "colab": {}
      },
      "source": [
        "train_data_path = folder_path + \"/train/\"\n",
        "train_data = torchvision.datasets.ImageFolder(root=train_data_path, transform=img_transforms, is_valid_file=check_image)\n",
        "\n",
        "test_data_path = folder_path + \"/test/\"\n",
        "test_data = torchvision.datasets.ImageFolder(root=test_data_path, transform=img_transforms, is_valid_file=check_image)\n",
        "\n",
        "val_data_path = folder_path + \"/val/\"\n",
        "val_data = torchvision.datasets.ImageFolder(root=val_data_path, transform=img_transforms, is_valid_file=check_image)"
      ],
      "execution_count": 0,
      "outputs": []
    },
    {
      "cell_type": "code",
      "metadata": {
        "id": "C3EUtfTmgqhD",
        "colab_type": "code",
        "colab": {}
      },
      "source": [
        "batch_size = 64\n",
        "\n",
        "train_data_loader = torch.utils.data.DataLoader(train_data, batch_size=batch_size)\n",
        "val_data_loader  = torch.utils.data.DataLoader(val_data, batch_size=batch_size) \n",
        "test_data_loader  = torch.utils.data.DataLoader(test_data, batch_size=batch_size)"
      ],
      "execution_count": 0,
      "outputs": []
    },
    {
      "cell_type": "markdown",
      "metadata": {
        "id": "8N9XfAfLYzlV",
        "colab_type": "text"
      },
      "source": [
        "### Visualize an image after transformations"
      ]
    },
    {
      "cell_type": "code",
      "metadata": {
        "id": "CYUwB3Vzcc12",
        "colab_type": "code",
        "outputId": "9f2ec550-6ba5-4ad7-c340-58c0a7c70eac",
        "colab": {
          "base_uri": "https://localhost:8080/",
          "height": 302
        }
      },
      "source": [
        "import matplotlib.pyplot as plt\n",
        "img = val_data[4][0].permute(1, 2, 0).numpy()\n",
        "plt.imshow(img)"
      ],
      "execution_count": 0,
      "outputs": [
        {
          "output_type": "stream",
          "text": [
            "Clipping input data to the valid range for imshow with RGB data ([0..1] for floats or [0..255] for integers).\n"
          ],
          "name": "stderr"
        },
        {
          "output_type": "execute_result",
          "data": {
            "text/plain": [
              "<matplotlib.image.AxesImage at 0x7ff1812f50f0>"
            ]
          },
          "metadata": {
            "tags": []
          },
          "execution_count": 7
        },
        {
          "output_type": "display_data",
          "data": {
            "image/png": "[encoded data removed]",
            "text/plain": [
              "<Figure size 432x288 with 1 Axes>"
            ]
          },
          "metadata": {
            "tags": []
          }
        }
      ]
    },
    {
      "cell_type": "markdown",
      "metadata": {
        "id": "3Yeh071HZHIN",
        "colab_type": "text"
      },
      "source": [
        "## Creating a Deep fully connected neural network"
      ]
    },
    {
      "cell_type": "code",
      "metadata": {
        "id": "dfwwki70dbTO",
        "colab_type": "code",
        "colab": {}
      },
      "source": [
        "class SimpleNet(nn.Module):\n",
        "\n",
        "    def __init__(self):\n",
        "        super(SimpleNet, self).__init__()\n",
        "        self.fc1 = nn.Linear(im_size*im_size*3, 84)\n",
        "        self.fc2 = nn.Linear(84, 50)\n",
        "        self.fc3 = nn.Linear(50,2)\n",
        "    \n",
        "    def forward(self, x):\n",
        "        x = x.view(-1, im_size*im_size*3)\n",
        "        x = F.relu(self.fc1(x))\n",
        "        x = F.relu(self.fc2(x))\n",
        "        x = self.fc3(x)\n",
        "        return x"
      ],
      "execution_count": 0,
      "outputs": []
    },
    {
      "cell_type": "code",
      "metadata": {
        "id": "h3G8REZVgKSb",
        "colab_type": "code",
        "colab": {}
      },
      "source": [
        "simplenet = SimpleNet()"
      ],
      "execution_count": 0,
      "outputs": []
    },
    {
      "cell_type": "markdown",
      "metadata": {
        "id": "xreMfvJUZPwm",
        "colab_type": "text"
      },
      "source": [
        "## Optimization settings"
      ]
    },
    {
      "cell_type": "code",
      "metadata": {
        "id": "oY3ToiCOgcWJ",
        "colab_type": "code",
        "colab": {}
      },
      "source": [
        "optimizer = optim.Adam(simplenet.parameters(), lr=0.001)"
      ],
      "execution_count": 0,
      "outputs": []
    },
    {
      "cell_type": "code",
      "metadata": {
        "id": "8osMyzbhgybz",
        "colab_type": "code",
        "outputId": "7cd0fdbe-371b-44f4-ab72-e01b4f9c552d",
        "colab": {
          "base_uri": "https://localhost:8080/",
          "height": 118
        }
      },
      "source": [
        "if torch.cuda.is_available():\n",
        "    device = torch.device(\"cuda\") \n",
        "    print('Using GPU')\n",
        "else:\n",
        "    device = torch.device(\"cpu\")\n",
        "    print('Using CPU')\n",
        "\n",
        "simplenet.to(device)"
      ],
      "execution_count": 0,
      "outputs": [
        {
          "output_type": "stream",
          "text": [
            "Using CPU\n"
          ],
          "name": "stdout"
        },
        {
          "output_type": "execute_result",
          "data": {
            "text/plain": [
              "SimpleNet(\n",
              "  (fc1): Linear(in_features=49152, out_features=84, bias=True)\n",
              "  (fc2): Linear(in_features=84, out_features=50, bias=True)\n",
              "  (fc3): Linear(in_features=50, out_features=2, bias=True)\n",
              ")"
            ]
          },
          "metadata": {
            "tags": []
          },
          "execution_count": 11
        }
      ]
    },
    {
      "cell_type": "markdown",
      "metadata": {
        "id": "H6vX_ojKZVx_",
        "colab_type": "text"
      },
      "source": [
        "## Trainning procedure"
      ]
    },
    {
      "cell_type": "code",
      "metadata": {
        "id": "3bPjzsrYlhGS",
        "colab_type": "code",
        "colab": {}
      },
      "source": [
        "def train(model, optimizer, loss_fn, train_loader, val_loader, epochs=20, device=\"cpu\"):\n",
        "    for epoch in range(epochs):\n",
        "        training_loss = 0.0\n",
        "        valid_loss = 0.0\n",
        "        model.train()\n",
        "        for batch in train_loader:\n",
        "            optimizer.zero_grad()\n",
        "            inputs, targets = batch\n",
        "            inputs = inputs.to(device)\n",
        "            targets = targets.to(device)\n",
        "            output = model(inputs)\n",
        "            loss = loss_fn(output, targets)\n",
        "            loss.backward()\n",
        "            optimizer.step()\n",
        "            training_loss += loss.data.item() * inputs.size(0)\n",
        "        training_loss /= len(train_loader.dataset)\n",
        "        \n",
        "        model.eval()\n",
        "        num_correct = 0 \n",
        "        num_examples = 0\n",
        "        for batch in val_loader:\n",
        "            inputs, targets = batch\n",
        "            inputs = inputs.to(device)\n",
        "            output = model(inputs)\n",
        "            targets = targets.to(device)\n",
        "            loss = loss_fn(output,targets) \n",
        "            valid_loss += loss.data.item() * inputs.size(0)\n",
        "            correct = torch.eq(torch.max(F.softmax(output), dim=1)[1], targets).view(-1)\n",
        "            num_correct += torch.sum(correct).item()\n",
        "            num_examples += correct.shape[0]\n",
        "        valid_loss /= len(val_loader.dataset)\n",
        "\n",
        "        print('Epoch: {}, Training Loss: {:.2f}, Validation Loss: {:.2f}, accuracy = {:.2f}'.format(epoch, training_loss,\n",
        "        valid_loss, num_correct / num_examples))"
      ],
      "execution_count": 0,
      "outputs": []
    },
    {
      "cell_type": "markdown",
      "metadata": {
        "id": "Way7cohTZab1",
        "colab_type": "text"
      },
      "source": [
        "## Trainning"
      ]
    },
    {
      "cell_type": "code",
      "metadata": {
        "id": "qBjHssFMlr-X",
        "colab_type": "code",
        "outputId": "7f640221-4d7e-4635-f149-1f586c357369",
        "colab": {
          "base_uri": "https://localhost:8080/",
          "height": 306
        }
      },
      "source": [
        "train(simplenet, optimizer,torch.nn.CrossEntropyLoss(), train_data_loader,val_data_loader, epochs=15, device=device)"
      ],
      "execution_count": 0,
      "outputs": [
        {
          "output_type": "stream",
          "text": [
            "/usr/local/lib/python3.6/dist-packages/ipykernel_launcher.py:28: UserWarning: Implicit dimension choice for softmax has been deprecated. Change the call to include dim=X as an argument.\n"
          ],
          "name": "stderr"
        },
        {
          "output_type": "stream",
          "text": [
            "Epoch: 0, Training Loss: 27.08, Validation Loss: 13.00, accuracy = 0.79\n",
            "Epoch: 1, Training Loss: 1.08, Validation Loss: 5.60, accuracy = 0.19\n",
            "Epoch: 2, Training Loss: 6.23, Validation Loss: 3.70, accuracy = 0.79\n",
            "Epoch: 3, Training Loss: 0.48, Validation Loss: 4.86, accuracy = 0.24\n",
            "Epoch: 4, Training Loss: 4.11, Validation Loss: 2.94, accuracy = 0.79\n",
            "Epoch: 5, Training Loss: 0.39, Validation Loss: 3.19, accuracy = 0.28\n",
            "Epoch: 6, Training Loss: 3.06, Validation Loss: 2.33, accuracy = 0.79\n",
            "Epoch: 7, Training Loss: 0.38, Validation Loss: 2.48, accuracy = 0.32\n",
            "Epoch: 8, Training Loss: 2.28, Validation Loss: 1.58, accuracy = 0.79\n",
            "Epoch: 9, Training Loss: 0.37, Validation Loss: 1.43, accuracy = 0.42\n",
            "Epoch: 10, Training Loss: 1.41, Validation Loss: 1.17, accuracy = 0.79\n",
            "Epoch: 11, Training Loss: 0.32, Validation Loss: 1.12, accuracy = 0.55\n",
            "Epoch: 12, Training Loss: 1.13, Validation Loss: 1.00, accuracy = 0.79\n",
            "Epoch: 13, Training Loss: 0.40, Validation Loss: 0.90, accuracy = 0.69\n",
            "Epoch: 14, Training Loss: 0.86, Validation Loss: 0.88, accuracy = 0.79\n"
          ],
          "name": "stdout"
        }
      ]
    },
    {
      "cell_type": "markdown",
      "metadata": {
        "id": "dVXXwNUyZgKZ",
        "colab_type": "text"
      },
      "source": [
        "## Test"
      ]
    },
    {
      "cell_type": "code",
      "metadata": {
        "id": "5aD79OEVl4FA",
        "colab_type": "code",
        "outputId": "a6d031f1-ffef-4177-8566-f286c0a68629",
        "colab": {
          "base_uri": "https://localhost:8080/"
        }
      },
      "source": [
        "import os, os.path\n",
        "\n",
        "# path joining version for other paths\n",
        "DIR = folder_path + '/train/malignant/'\n",
        "print(len([name for name in os.listdir(DIR) if os.path.isfile(os.path.join(DIR, name))]))\n",
        "\n",
        "\n",
        "DIR = folder_path + '/train/benign/'\n",
        "print(len([name for name in os.listdir(DIR) if os.path.isfile(os.path.join(DIR, name))]))"
      ],
      "execution_count": 0,
      "outputs": [
        {
          "output_type": "stream",
          "text": [
            "116\n",
            "498\n"
          ],
          "name": "stdout"
        }
      ]
    },
    {
      "cell_type": "code",
      "metadata": {
        "id": "CGZsqjMnEKAZ",
        "colab_type": "code",
        "colab": {}
      },
      "source": [
        "labels = ['benign','maglinant']\n",
        "\n",
        "folder_path = \"/content/drive/My Drive/Skin_Lesions/test/malignant\"\n",
        "\n",
        "images = [f for f in os.listdir(folder_path) if os.path.isfile(os.path.join(folder_path, f))]\n"
      ],
      "execution_count": 0,
      "outputs": []
    },
    {
      "cell_type": "code",
      "metadata": {
        "id": "qMVfVrzVEyBc",
        "colab_type": "code",
        "outputId": "9720e880-c29f-4f00-f97f-689467360ec6",
        "colab": {
          "base_uri": "https://localhost:8080/",
          "height": 541
        }
      },
      "source": [
        "for im in images:\n",
        "  img = Image.open(folder_path + '/' + im) \n",
        "  img = img_transforms(img).to(device)\n",
        "\n",
        "  prediction = F.softmax(simplenet(img))\n",
        "  prediction = prediction.argmax()  \n",
        "  print(labels[prediction] + '_' + str(prediction))\n"
      ],
      "execution_count": 0,
      "outputs": [
        {
          "output_type": "stream",
          "text": [
            "benign_tensor(0)\n"
          ],
          "name": "stdout"
        },
        {
          "output_type": "stream",
          "text": [
            "/usr/local/lib/python3.6/dist-packages/ipykernel_launcher.py:5: UserWarning: Implicit dimension choice for softmax has been deprecated. Change the call to include dim=X as an argument.\n",
            "  \"\"\"\n"
          ],
          "name": "stderr"
        },
        {
          "output_type": "stream",
          "text": [
            "benign_tensor(0)\n",
            "benign_tensor(0)\n",
            "benign_tensor(0)\n",
            "maglinant_tensor(1)\n",
            "benign_tensor(0)\n",
            "benign_tensor(0)\n",
            "benign_tensor(0)\n",
            "maglinant_tensor(1)\n",
            "benign_tensor(0)\n",
            "maglinant_tensor(1)\n",
            "benign_tensor(0)\n",
            "benign_tensor(0)\n",
            "benign_tensor(0)\n",
            "benign_tensor(0)\n",
            "benign_tensor(0)\n",
            "benign_tensor(0)\n",
            "benign_tensor(0)\n",
            "benign_tensor(0)\n",
            "benign_tensor(0)\n",
            "benign_tensor(0)\n",
            "benign_tensor(0)\n",
            "benign_tensor(0)\n",
            "benign_tensor(0)\n",
            "benign_tensor(0)\n",
            "benign_tensor(0)\n",
            "benign_tensor(0)\n",
            "benign_tensor(0)\n"
          ],
          "name": "stdout"
        }
      ]
    }
  ]
}